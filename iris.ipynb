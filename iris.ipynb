{
  "cells": [
    {
      "cell_type": "markdown",
      "metadata": {
        "id": "jPyDpDqvZuLo"
      },
      "source": [
        "# **Trabalho Final Spark com dataset iris.csv**\n"
      ]
    },
    {
      "cell_type": "markdown",
      "source": [
        "Este trabalho busca implementar um algoritmo de machine learning, utilizando a técnica de regressão logística para um problema de classificação.\n",
        "\n",
        "O dataset utilizado é o íris.csv. Este dataset é um dataset de flores que possui três espécies: iris-setosa, iris-versicolor e iris-virginica. Para cada linha do dataset tem-se as medidas do comprimento e a largura das sépalas e pétalas, em centímetros."
      ],
      "metadata": {
        "id": "-V847ZU08zzc"
      }
    },
    {
      "cell_type": "markdown",
      "source": [
        "### Importação e Configuração do ambiente Spark"
      ],
      "metadata": {
        "id": "i1x4i53y6oFm"
      }
    },
    {
      "cell_type": "code",
      "source": [
        "!pip install pyspark"
      ],
      "metadata": {
        "colab": {
          "base_uri": "https://localhost:8080/"
        },
        "id": "vVwlc3dZjjet",
        "outputId": "08123636-5432-4465-b45f-cc4d9b4bf2b4"
      },
      "execution_count": 1,
      "outputs": [
        {
          "output_type": "stream",
          "name": "stdout",
          "text": [
            "Looking in indexes: https://pypi.org/simple, https://us-python.pkg.dev/colab-wheels/public/simple/\n",
            "Requirement already satisfied: pyspark in /usr/local/lib/python3.7/dist-packages (3.3.0)\n",
            "Requirement already satisfied: py4j==0.10.9.5 in /usr/local/lib/python3.7/dist-packages (from pyspark) (0.10.9.5)\n"
          ]
        }
      ]
    },
    {
      "cell_type": "code",
      "source": [
        "# Importação dos pacotes de contexto e configuração do Spark\n",
        "from pyspark.sql import SparkSession"
      ],
      "metadata": {
        "id": "Rt9Xjpfzjh0Z"
      },
      "execution_count": 2,
      "outputs": []
    },
    {
      "cell_type": "code",
      "execution_count": 3,
      "metadata": {
        "colab": {
          "base_uri": "https://localhost:8080/"
        },
        "id": "MmQC7J5cvkzE",
        "vscode": {
          "languageId": "python"
        },
        "outputId": "a9ae060b-cbf8-406a-d50c-4e8fc0a6dd71"
      },
      "outputs": [
        {
          "output_type": "stream",
          "name": "stdout",
          "text": [
            "Drive already mounted at /content/drive; to attempt to forcibly remount, call drive.mount(\"/content/drive\", force_remount=True).\n"
          ]
        }
      ],
      "source": [
        "# Montando sistema de arquivo com Google Drive\n",
        "from google.colab import drive\n",
        "drive.mount('/content/drive')"
      ]
    },
    {
      "cell_type": "code",
      "source": [
        "# Pasta que contém arquivos utilizados na disciplina e trabalho final\n",
        "import os\n",
        "os.chdir(\"/content/drive/My Drive/Colab Notebooks/Spark\")"
      ],
      "metadata": {
        "id": "VFAgdpztjyEx"
      },
      "execution_count": 4,
      "outputs": []
    },
    {
      "cell_type": "code",
      "source": [
        "# mostra arquivo iris.csv, utilizado aqui\n",
        "!ls"
      ],
      "metadata": {
        "colab": {
          "base_uri": "https://localhost:8080/"
        },
        "id": "u6f3-uOTlOTB",
        "outputId": "06f8fb30-bbd1-4946-9fcc-7123a96491c6"
      },
      "execution_count": 5,
      "outputs": [
        {
          "output_type": "stream",
          "name": "stdout",
          "text": [
            "auto-miles-per-gallon.csv  iris.csv\t   medicos.csv\n",
            "genre.csv\t\t   listenings.csv  saudeja.csv\n"
          ]
        }
      ]
    },
    {
      "cell_type": "markdown",
      "source": [
        "### Setando a configuração do Spark Context"
      ],
      "metadata": {
        "id": "QsHVRBk_laai"
      }
    },
    {
      "cell_type": "code",
      "execution_count": 6,
      "metadata": {
        "id": "gS3YIWJiW7I3",
        "vscode": {
          "languageId": "python"
        }
      },
      "outputs": [],
      "source": [
        "spark = SparkSession.builder.appName(\"Iris\").master(\"local[*]\").getOrCreate()"
      ]
    },
    {
      "cell_type": "markdown",
      "metadata": {
        "id": "RKuIUYLwSkNP"
      },
      "source": [
        "### Carregando arquivo iris.csv"
      ]
    },
    {
      "cell_type": "code",
      "execution_count": 7,
      "metadata": {
        "cellView": "both",
        "id": "XXSZBvRgSnCN",
        "vscode": {
          "languageId": "python"
        }
      },
      "outputs": [],
      "source": [
        "df_iris = spark.read.csv(path='iris.csv', sep=',',\n",
        "# encoding='UTF-8',\n",
        "# comment=None,\n",
        "header=True,\n",
        "inferSchema=True)"
      ]
    },
    {
      "cell_type": "markdown",
      "source": [
        "### Mostrando primeiras linhas"
      ],
      "metadata": {
        "id": "thCHxlXmmZsn"
      }
    },
    {
      "cell_type": "code",
      "source": [
        "df_iris.show()"
      ],
      "metadata": {
        "colab": {
          "base_uri": "https://localhost:8080/"
        },
        "id": "CepMGk9omQoo",
        "outputId": "86228a13-a431-4bc6-b6a2-2dfa765725e6"
      },
      "execution_count": 8,
      "outputs": [
        {
          "output_type": "stream",
          "name": "stdout",
          "text": [
            "+-------------+------------+-------------+------------+-----------+\n",
            "|SepalLengthCm|SepalWidthCm|PetalLengthCm|PetalWidthCm|    Species|\n",
            "+-------------+------------+-------------+------------+-----------+\n",
            "|          5.1|         3.5|          1.4|         0.2|Iris-setosa|\n",
            "|          4.9|         3.0|          1.4|         0.2|Iris-setosa|\n",
            "|          4.7|         3.2|          1.3|         0.2|Iris-setosa|\n",
            "|          4.6|         3.1|          1.5|         0.2|Iris-setosa|\n",
            "|          5.0|         3.6|          1.4|         0.2|Iris-setosa|\n",
            "|          5.4|         3.9|          1.7|         0.4|Iris-setosa|\n",
            "|          4.6|         3.4|          1.4|         0.3|Iris-setosa|\n",
            "|          5.0|         3.4|          1.5|         0.2|Iris-setosa|\n",
            "|          4.4|         2.9|          1.4|         0.2|Iris-setosa|\n",
            "|          4.9|         3.1|          1.5|         0.1|Iris-setosa|\n",
            "|          5.4|         3.7|          1.5|         0.2|Iris-setosa|\n",
            "|          4.8|         3.4|          1.6|         0.2|Iris-setosa|\n",
            "|          4.8|         3.0|          1.4|         0.1|Iris-setosa|\n",
            "|          4.3|         3.0|          1.1|         0.1|Iris-setosa|\n",
            "|          5.8|         4.0|          1.2|         0.2|Iris-setosa|\n",
            "|          5.7|         4.4|          1.5|         0.4|Iris-setosa|\n",
            "|          5.4|         3.9|          1.3|         0.4|Iris-setosa|\n",
            "|          5.1|         3.5|          1.4|         0.3|Iris-setosa|\n",
            "|          5.7|         3.8|          1.7|         0.3|Iris-setosa|\n",
            "|          5.1|         3.8|          1.5|         0.3|Iris-setosa|\n",
            "+-------------+------------+-------------+------------+-----------+\n",
            "only showing top 20 rows\n",
            "\n"
          ]
        }
      ]
    },
    {
      "cell_type": "markdown",
      "metadata": {
        "id": "vv_SKqr8T9mT"
      },
      "source": [
        "### Imprimindo o esquema de iris.csv : \n"
      ]
    },
    {
      "cell_type": "code",
      "execution_count": 9,
      "metadata": {
        "colab": {
          "base_uri": "https://localhost:8080/"
        },
        "id": "gK22lJDRTuKY",
        "vscode": {
          "languageId": "python"
        },
        "outputId": "a18025a3-f856-4e45-a924-1513ec893366"
      },
      "outputs": [
        {
          "output_type": "stream",
          "name": "stdout",
          "text": [
            "root\n",
            " |-- SepalLengthCm: double (nullable = true)\n",
            " |-- SepalWidthCm: double (nullable = true)\n",
            " |-- PetalLengthCm: double (nullable = true)\n",
            " |-- PetalWidthCm: double (nullable = true)\n",
            " |-- Species: string (nullable = true)\n",
            "\n"
          ]
        }
      ],
      "source": [
        "df_iris.printSchema()"
      ]
    },
    {
      "cell_type": "markdown",
      "metadata": {
        "id": "s1i6KVshykdn"
      },
      "source": [
        "Número de linhas"
      ]
    },
    {
      "cell_type": "code",
      "execution_count": 10,
      "metadata": {
        "colab": {
          "base_uri": "https://localhost:8080/"
        },
        "id": "5Ji0zViUyjUE",
        "vscode": {
          "languageId": "python"
        },
        "outputId": "a08cb5fd-daf4-4642-bc64-045971d1b5ff"
      },
      "outputs": [
        {
          "output_type": "execute_result",
          "data": {
            "text/plain": [
              "150"
            ]
          },
          "metadata": {},
          "execution_count": 10
        }
      ],
      "source": [
        "df_iris.count()"
      ]
    },
    {
      "cell_type": "markdown",
      "metadata": {
        "id": "HS6wd2d_woNC"
      },
      "source": [
        "Importação dos pacotes para trabalhar com vetores"
      ]
    },
    {
      "cell_type": "code",
      "execution_count": 11,
      "metadata": {
        "id": "pIMzBAglwtNP",
        "vscode": {
          "languageId": "python"
        }
      },
      "outputs": [],
      "source": [
        "from pyspark.ml.linalg import Vectors\n",
        "from pyspark.ml.feature import VectorAssembler, OneHotEncoder, StringIndexer"
      ]
    },
    {
      "cell_type": "markdown",
      "source": [
        "Removendo as linhas com valores nulos"
      ],
      "metadata": {
        "id": "mmEwG_l5n9o6"
      }
    },
    {
      "cell_type": "code",
      "execution_count": 12,
      "metadata": {
        "colab": {
          "base_uri": "https://localhost:8080/"
        },
        "id": "7_lEjNKVCDJv",
        "vscode": {
          "languageId": "python"
        },
        "outputId": "a004fbfe-ab64-4e78-b4c2-b85d4145989e"
      },
      "outputs": [
        {
          "output_type": "stream",
          "name": "stdout",
          "text": [
            "+-------------+------------+-------------+------------+-----------+\n",
            "|SepalLengthCm|SepalWidthCm|PetalLengthCm|PetalWidthCm|    Species|\n",
            "+-------------+------------+-------------+------------+-----------+\n",
            "|          5.1|         3.5|          1.4|         0.2|Iris-setosa|\n",
            "|          4.9|         3.0|          1.4|         0.2|Iris-setosa|\n",
            "|          4.7|         3.2|          1.3|         0.2|Iris-setosa|\n",
            "|          4.6|         3.1|          1.5|         0.2|Iris-setosa|\n",
            "|          5.0|         3.6|          1.4|         0.2|Iris-setosa|\n",
            "|          5.4|         3.9|          1.7|         0.4|Iris-setosa|\n",
            "|          4.6|         3.4|          1.4|         0.3|Iris-setosa|\n",
            "|          5.0|         3.4|          1.5|         0.2|Iris-setosa|\n",
            "|          4.4|         2.9|          1.4|         0.2|Iris-setosa|\n",
            "|          4.9|         3.1|          1.5|         0.1|Iris-setosa|\n",
            "|          5.4|         3.7|          1.5|         0.2|Iris-setosa|\n",
            "|          4.8|         3.4|          1.6|         0.2|Iris-setosa|\n",
            "|          4.8|         3.0|          1.4|         0.1|Iris-setosa|\n",
            "|          4.3|         3.0|          1.1|         0.1|Iris-setosa|\n",
            "|          5.8|         4.0|          1.2|         0.2|Iris-setosa|\n",
            "|          5.7|         4.4|          1.5|         0.4|Iris-setosa|\n",
            "|          5.4|         3.9|          1.3|         0.4|Iris-setosa|\n",
            "|          5.1|         3.5|          1.4|         0.3|Iris-setosa|\n",
            "|          5.7|         3.8|          1.7|         0.3|Iris-setosa|\n",
            "|          5.1|         3.8|          1.5|         0.3|Iris-setosa|\n",
            "+-------------+------------+-------------+------------+-----------+\n",
            "only showing top 20 rows\n",
            "\n"
          ]
        }
      ],
      "source": [
        "df_iris = df_iris.na.drop()\n",
        "df_iris.show()"
      ]
    },
    {
      "cell_type": "markdown",
      "source": [
        "Não há valores nulos, o número de linhas permanece o mesmo."
      ],
      "metadata": {
        "id": "eHs8C_YboLK4"
      }
    },
    {
      "cell_type": "code",
      "source": [
        "df_iris.count()"
      ],
      "metadata": {
        "colab": {
          "base_uri": "https://localhost:8080/"
        },
        "id": "0vfcItkwoC57",
        "outputId": "bb7ea9a6-2324-417b-eb94-00ae650dd5c4"
      },
      "execution_count": 13,
      "outputs": [
        {
          "output_type": "execute_result",
          "data": {
            "text/plain": [
              "150"
            ]
          },
          "metadata": {},
          "execution_count": 13
        }
      ]
    },
    {
      "cell_type": "markdown",
      "source": [
        "Transformação de atributos categóricos"
      ],
      "metadata": {
        "id": "yNPteu_uoYap"
      }
    },
    {
      "cell_type": "code",
      "source": [
        "label_index = StringIndexer(inputCol=\"Species\", outputCol=\"indexedLabel\")\n",
        "model_label = label_index.fit(df_iris)\n",
        "df_iris = model_label.transform(df_iris)"
      ],
      "metadata": {
        "id": "kEqikOK1ohu8"
      },
      "execution_count": 14,
      "outputs": []
    },
    {
      "cell_type": "markdown",
      "source": [
        "Montando o vetor de features"
      ],
      "metadata": {
        "id": "uCffmg97qD7K"
      }
    },
    {
      "cell_type": "code",
      "source": [
        "assembler = VectorAssembler(inputCols=[\"indexedLabel\", \"SepalLengthCm\", \"SepalWidthCm\", \"PetalLengthCm\", \"PetalWidthCm\"],outputCol=\"features\")\n",
        "df_features = assembler.transform(df_iris)\n",
        "df_features.show(20, False)"
      ],
      "metadata": {
        "colab": {
          "base_uri": "https://localhost:8080/"
        },
        "id": "N2tPmiUfqGMu",
        "outputId": "018385c0-df0e-4b56-d635-5133ee19f8c9"
      },
      "execution_count": 15,
      "outputs": [
        {
          "output_type": "stream",
          "name": "stdout",
          "text": [
            "+-------------+------------+-------------+------------+-----------+------------+---------------------+\n",
            "|SepalLengthCm|SepalWidthCm|PetalLengthCm|PetalWidthCm|Species    |indexedLabel|features             |\n",
            "+-------------+------------+-------------+------------+-----------+------------+---------------------+\n",
            "|5.1          |3.5         |1.4          |0.2         |Iris-setosa|0.0         |[0.0,5.1,3.5,1.4,0.2]|\n",
            "|4.9          |3.0         |1.4          |0.2         |Iris-setosa|0.0         |[0.0,4.9,3.0,1.4,0.2]|\n",
            "|4.7          |3.2         |1.3          |0.2         |Iris-setosa|0.0         |[0.0,4.7,3.2,1.3,0.2]|\n",
            "|4.6          |3.1         |1.5          |0.2         |Iris-setosa|0.0         |[0.0,4.6,3.1,1.5,0.2]|\n",
            "|5.0          |3.6         |1.4          |0.2         |Iris-setosa|0.0         |[0.0,5.0,3.6,1.4,0.2]|\n",
            "|5.4          |3.9         |1.7          |0.4         |Iris-setosa|0.0         |[0.0,5.4,3.9,1.7,0.4]|\n",
            "|4.6          |3.4         |1.4          |0.3         |Iris-setosa|0.0         |[0.0,4.6,3.4,1.4,0.3]|\n",
            "|5.0          |3.4         |1.5          |0.2         |Iris-setosa|0.0         |[0.0,5.0,3.4,1.5,0.2]|\n",
            "|4.4          |2.9         |1.4          |0.2         |Iris-setosa|0.0         |[0.0,4.4,2.9,1.4,0.2]|\n",
            "|4.9          |3.1         |1.5          |0.1         |Iris-setosa|0.0         |[0.0,4.9,3.1,1.5,0.1]|\n",
            "|5.4          |3.7         |1.5          |0.2         |Iris-setosa|0.0         |[0.0,5.4,3.7,1.5,0.2]|\n",
            "|4.8          |3.4         |1.6          |0.2         |Iris-setosa|0.0         |[0.0,4.8,3.4,1.6,0.2]|\n",
            "|4.8          |3.0         |1.4          |0.1         |Iris-setosa|0.0         |[0.0,4.8,3.0,1.4,0.1]|\n",
            "|4.3          |3.0         |1.1          |0.1         |Iris-setosa|0.0         |[0.0,4.3,3.0,1.1,0.1]|\n",
            "|5.8          |4.0         |1.2          |0.2         |Iris-setosa|0.0         |[0.0,5.8,4.0,1.2,0.2]|\n",
            "|5.7          |4.4         |1.5          |0.4         |Iris-setosa|0.0         |[0.0,5.7,4.4,1.5,0.4]|\n",
            "|5.4          |3.9         |1.3          |0.4         |Iris-setosa|0.0         |[0.0,5.4,3.9,1.3,0.4]|\n",
            "|5.1          |3.5         |1.4          |0.3         |Iris-setosa|0.0         |[0.0,5.1,3.5,1.4,0.3]|\n",
            "|5.7          |3.8         |1.7          |0.3         |Iris-setosa|0.0         |[0.0,5.7,3.8,1.7,0.3]|\n",
            "|5.1          |3.8         |1.5          |0.3         |Iris-setosa|0.0         |[0.0,5.1,3.8,1.5,0.3]|\n",
            "+-------------+------------+-------------+------------+-----------+------------+---------------------+\n",
            "only showing top 20 rows\n",
            "\n"
          ]
        }
      ]
    },
    {
      "cell_type": "markdown",
      "source": [
        "Seleção dos atributos que interessam para o modelo"
      ],
      "metadata": {
        "id": "wYbTtDklq8lC"
      }
    },
    {
      "cell_type": "code",
      "source": [
        "df_features = df_features.select(df_features.indexedLabel, df_features.features)\n",
        "df_features.show(20, False)"
      ],
      "metadata": {
        "colab": {
          "base_uri": "https://localhost:8080/"
        },
        "id": "q8xgK_rAq_UX",
        "outputId": "36c1747b-5a44-4b76-e840-cb29a04f542d"
      },
      "execution_count": 16,
      "outputs": [
        {
          "output_type": "stream",
          "name": "stdout",
          "text": [
            "+------------+---------------------+\n",
            "|indexedLabel|features             |\n",
            "+------------+---------------------+\n",
            "|0.0         |[0.0,5.1,3.5,1.4,0.2]|\n",
            "|0.0         |[0.0,4.9,3.0,1.4,0.2]|\n",
            "|0.0         |[0.0,4.7,3.2,1.3,0.2]|\n",
            "|0.0         |[0.0,4.6,3.1,1.5,0.2]|\n",
            "|0.0         |[0.0,5.0,3.6,1.4,0.2]|\n",
            "|0.0         |[0.0,5.4,3.9,1.7,0.4]|\n",
            "|0.0         |[0.0,4.6,3.4,1.4,0.3]|\n",
            "|0.0         |[0.0,5.0,3.4,1.5,0.2]|\n",
            "|0.0         |[0.0,4.4,2.9,1.4,0.2]|\n",
            "|0.0         |[0.0,4.9,3.1,1.5,0.1]|\n",
            "|0.0         |[0.0,5.4,3.7,1.5,0.2]|\n",
            "|0.0         |[0.0,4.8,3.4,1.6,0.2]|\n",
            "|0.0         |[0.0,4.8,3.0,1.4,0.1]|\n",
            "|0.0         |[0.0,4.3,3.0,1.1,0.1]|\n",
            "|0.0         |[0.0,5.8,4.0,1.2,0.2]|\n",
            "|0.0         |[0.0,5.7,4.4,1.5,0.4]|\n",
            "|0.0         |[0.0,5.4,3.9,1.3,0.4]|\n",
            "|0.0         |[0.0,5.1,3.5,1.4,0.3]|\n",
            "|0.0         |[0.0,5.7,3.8,1.7,0.3]|\n",
            "|0.0         |[0.0,5.1,3.8,1.5,0.3]|\n",
            "+------------+---------------------+\n",
            "only showing top 20 rows\n",
            "\n"
          ]
        }
      ]
    },
    {
      "cell_type": "markdown",
      "source": [
        "Renomeando a coluna Species para o rotulo label"
      ],
      "metadata": {
        "id": "h7Rc2iU0rLHu"
      }
    },
    {
      "cell_type": "code",
      "source": [
        "df_novo = df_features.withColumnRenamed(\"indexedLabel\", \"label\")\n",
        "df_novo.show()"
      ],
      "metadata": {
        "colab": {
          "base_uri": "https://localhost:8080/"
        },
        "id": "IwPVD7OmrZoO",
        "outputId": "ee3a5472-55ce-46a8-a1d4-59ca0a364610"
      },
      "execution_count": 17,
      "outputs": [
        {
          "output_type": "stream",
          "name": "stdout",
          "text": [
            "+-----+--------------------+\n",
            "|label|            features|\n",
            "+-----+--------------------+\n",
            "|  0.0|[0.0,5.1,3.5,1.4,...|\n",
            "|  0.0|[0.0,4.9,3.0,1.4,...|\n",
            "|  0.0|[0.0,4.7,3.2,1.3,...|\n",
            "|  0.0|[0.0,4.6,3.1,1.5,...|\n",
            "|  0.0|[0.0,5.0,3.6,1.4,...|\n",
            "|  0.0|[0.0,5.4,3.9,1.7,...|\n",
            "|  0.0|[0.0,4.6,3.4,1.4,...|\n",
            "|  0.0|[0.0,5.0,3.4,1.5,...|\n",
            "|  0.0|[0.0,4.4,2.9,1.4,...|\n",
            "|  0.0|[0.0,4.9,3.1,1.5,...|\n",
            "|  0.0|[0.0,5.4,3.7,1.5,...|\n",
            "|  0.0|[0.0,4.8,3.4,1.6,...|\n",
            "|  0.0|[0.0,4.8,3.0,1.4,...|\n",
            "|  0.0|[0.0,4.3,3.0,1.1,...|\n",
            "|  0.0|[0.0,5.8,4.0,1.2,...|\n",
            "|  0.0|[0.0,5.7,4.4,1.5,...|\n",
            "|  0.0|[0.0,5.4,3.9,1.3,...|\n",
            "|  0.0|[0.0,5.1,3.5,1.4,...|\n",
            "|  0.0|[0.0,5.7,3.8,1.7,...|\n",
            "|  0.0|[0.0,5.1,3.8,1.5,...|\n",
            "+-----+--------------------+\n",
            "only showing top 20 rows\n",
            "\n"
          ]
        }
      ]
    },
    {
      "cell_type": "markdown",
      "source": [
        "Divisão da base nos conjuntos de treino e teste"
      ],
      "metadata": {
        "id": "cadnUu2irllu"
      }
    },
    {
      "cell_type": "code",
      "source": [
        "# 70% para treinamento e 30% para teste\n",
        "(trainingData, testData) = df_novo.randomSplit([0.7, 0.3])\n",
        "\n",
        "print(trainingData.count(), testData.count())"
      ],
      "metadata": {
        "colab": {
          "base_uri": "https://localhost:8080/"
        },
        "id": "Hbr1IPN4rnYv",
        "outputId": "bd872f7e-9a1a-4882-9de5-9b4415c93f0c"
      },
      "execution_count": 18,
      "outputs": [
        {
          "output_type": "stream",
          "name": "stdout",
          "text": [
            "102 48\n"
          ]
        }
      ]
    },
    {
      "cell_type": "code",
      "source": [
        "trainingData.show(5)\n",
        "testData.show(5)"
      ],
      "metadata": {
        "colab": {
          "base_uri": "https://localhost:8080/"
        },
        "id": "2hAxgEm7rscO",
        "outputId": "9636604f-2765-40b4-eaba-bafd107bc18a"
      },
      "execution_count": 19,
      "outputs": [
        {
          "output_type": "stream",
          "name": "stdout",
          "text": [
            "+-----+--------------------+\n",
            "|label|            features|\n",
            "+-----+--------------------+\n",
            "|  0.0|[0.0,4.3,3.0,1.1,...|\n",
            "|  0.0|[0.0,4.4,2.9,1.4,...|\n",
            "|  0.0|[0.0,4.4,3.0,1.3,...|\n",
            "|  0.0|[0.0,4.4,3.2,1.3,...|\n",
            "|  0.0|[0.0,4.5,2.3,1.3,...|\n",
            "+-----+--------------------+\n",
            "only showing top 5 rows\n",
            "\n",
            "+-----+--------------------+\n",
            "|label|            features|\n",
            "+-----+--------------------+\n",
            "|  0.0|[0.0,4.7,3.2,1.6,...|\n",
            "|  0.0|[0.0,4.8,3.0,1.4,...|\n",
            "|  0.0|[0.0,4.8,3.0,1.4,...|\n",
            "|  0.0|[0.0,4.8,3.4,1.6,...|\n",
            "|  0.0|[0.0,4.9,3.1,1.5,...|\n",
            "+-----+--------------------+\n",
            "only showing top 5 rows\n",
            "\n"
          ]
        }
      ]
    },
    {
      "cell_type": "markdown",
      "source": [
        "Treinamento de um modelo utilizando-se Regressão Logística"
      ],
      "metadata": {
        "id": "uWFBpzGksB4U"
      }
    },
    {
      "cell_type": "code",
      "source": [
        "from pyspark.ml.classification import LogisticRegression \n",
        "#from pyspark.ml.evaluation import BinaryClassificationEvaluator"
      ],
      "metadata": {
        "id": "9sIji49Sr1OX"
      },
      "execution_count": 20,
      "outputs": []
    },
    {
      "cell_type": "code",
      "source": [
        "# Cria o estimator para o modelo de regressão logística \n",
        "lr = LogisticRegression()"
      ],
      "metadata": {
        "id": "kzgP7fMTsJIX"
      },
      "execution_count": 21,
      "outputs": []
    },
    {
      "cell_type": "code",
      "source": [
        "# Cria o transformer para o modelo de regressão logística \n",
        "lrModelo = lr.fit(trainingData)"
      ],
      "metadata": {
        "id": "rITOt9CJsMMm"
      },
      "execution_count": 22,
      "outputs": []
    },
    {
      "cell_type": "code",
      "source": [
        "# Mostra resultados de acurácia, verdadeiros positivos, falsos positivos e precisão\n",
        "resultado = lrModelo.summary\n",
        "print(\"Acurácia: %s\" % str(resultado.accuracy))\n",
        "print(\"Verdadeiros positivos: %s\" % str(resultado.truePositiveRateByLabel))\n",
        "print(\"Falsos positivos: %s\" % str(resultado.falsePositiveRateByLabel))\n",
        "print(\"Precisão: %s\" %str(resultado.precisionByLabel))"
      ],
      "metadata": {
        "colab": {
          "base_uri": "https://localhost:8080/"
        },
        "id": "ICJ7qwI6sQrY",
        "outputId": "d98872f3-a39d-457d-de13-058d7c66e192"
      },
      "execution_count": 23,
      "outputs": [
        {
          "output_type": "stream",
          "name": "stdout",
          "text": [
            "Acurácia: 1.0\n",
            "Verdadeiros positivos: [1.0, 1.0, 1.0]\n",
            "Falsos positivos: [0.0, 0.0, 0.0]\n",
            "Precisão: [1.0, 1.0, 1.0]\n"
          ]
        }
      ]
    },
    {
      "cell_type": "code",
      "source": [
        "# Utiliza base de teste para modelo \n",
        "df_resultado = lrModelo.transform(testData)\n",
        "\n",
        "# Mostra predições para cada label\n",
        "df_resultado.show(48)"
      ],
      "metadata": {
        "colab": {
          "base_uri": "https://localhost:8080/"
        },
        "id": "rOt4XCUMsY12",
        "outputId": "2a3bfc56-9c47-4217-a0ff-d594425ecc81"
      },
      "execution_count": 26,
      "outputs": [
        {
          "output_type": "stream",
          "name": "stdout",
          "text": [
            "+-----+--------------------+--------------------+--------------------+----------+\n",
            "|label|            features|       rawPrediction|         probability|prediction|\n",
            "+-----+--------------------+--------------------+--------------------+----------+\n",
            "|  0.0|[0.0,4.7,3.2,1.6,...|[36.9699172518665...|[0.99999999999883...|       0.0|\n",
            "|  0.0|[0.0,4.8,3.0,1.4,...|[36.9461187503628...|[0.99999999999849...|       0.0|\n",
            "|  0.0|[0.0,4.8,3.0,1.4,...|[34.5002554209369...|[0.99999999995038...|       0.0|\n",
            "|  0.0|[0.0,4.8,3.4,1.6,...|[38.5358887377238...|[0.99999999999989...|       0.0|\n",
            "|  0.0|[0.0,4.9,3.1,1.5,...|[37.0263150019825...|[0.99999999999872...|       0.0|\n",
            "|  0.0|[0.0,4.9,3.1,1.5,...|[37.0263150019825...|[0.99999999999872...|       0.0|\n",
            "|  0.0|[0.0,5.0,3.0,1.6,...|[33.9554955487062...|[0.99999999987675...|       0.0|\n",
            "|  0.0|[0.0,5.0,3.5,1.3,...|[39.1179736268891...|[0.99999999999995...|       0.0|\n",
            "|  0.0|[0.0,5.0,3.5,1.6,...|[33.8839789903121...|[0.99999999992353...|       0.0|\n",
            "|  0.0|[0.0,5.1,3.5,1.4,...|[38.2341278584173...|[0.99999999999984...|       0.0|\n",
            "|  0.0|[0.0,5.1,3.7,1.5,...|[38.4175470197413...|[0.99999999999990...|       0.0|\n",
            "|  0.0|[0.0,5.1,3.8,1.9,...|[37.2946561832485...|[0.99999999999953...|       0.0|\n",
            "|  0.0|[0.0,5.4,3.9,1.7,...|[38.2158269686549...|[0.99999999999988...|       0.0|\n",
            "|  0.0|[0.0,5.5,3.5,1.3,...|[38.5303425199732...|[0.99999999999988...|       0.0|\n",
            "|  0.0|[0.0,5.7,3.8,1.7,...|[37.3883789502990...|[0.99999999999950...|       0.0|\n",
            "|  1.0|[1.0,5.2,2.7,3.9,...|[-10.392736949871...|[1.91703763855357...|       1.0|\n",
            "|  1.0|[1.0,5.4,3.0,4.5,...|[-12.578166947837...|[9.50414748758712...|       1.0|\n",
            "|  1.0|[1.0,5.5,2.4,3.7,...|[-8.4360075859794...|[2.05735385309488...|       1.0|\n",
            "|  1.0|[1.0,5.6,2.9,3.6,...|[-7.1249718198402...|[2.35071928455409...|       1.0|\n",
            "|  1.0|[1.0,5.7,2.6,3.5,...|[-6.1886822261557...|[6.22145744257091...|       1.0|\n",
            "|  1.0|[1.0,5.7,2.8,4.1,...|[-11.059792464987...|[6.42958627027985...|       1.0|\n",
            "|  1.0|[1.0,5.7,2.9,4.2,...|[-10.617483659042...|[1.32538772656110...|       1.0|\n",
            "|  1.0|[1.0,5.7,3.0,4.2,...|[-8.4305099742380...|[3.38626764355261...|       1.0|\n",
            "|  1.0|[1.0,5.9,3.0,4.2,...|[-12.823530077028...|[5.86078305349210...|       1.0|\n",
            "|  1.0|[1.0,6.1,2.9,4.7,...|[-15.897531611788...|[5.26219480735345...|       1.0|\n",
            "|  1.0|[1.0,6.2,2.2,4.5,...|[-23.187403543176...|[7.05860092920228...|       1.0|\n",
            "|  1.0|[1.0,6.3,2.5,4.9,...|[-22.744322893811...|[1.63760433178109...|       1.0|\n",
            "|  1.0|[1.0,6.5,2.8,4.6,...|[-19.011222299750...|[4.76101344788339...|       1.0|\n",
            "|  1.0|[1.0,6.6,2.9,4.6,...|[-15.963429504558...|[3.99306852888416...|       1.0|\n",
            "|  1.0|[1.0,7.0,3.2,4.7,...|[-16.264418540446...|[3.04246987578144...|       1.0|\n",
            "|  2.0|[2.0,5.7,2.5,5.0,...|[-41.264876533304...|[1.24279295574990...|       2.0|\n",
            "|  2.0|[2.0,5.8,2.8,5.1,...|[-44.148322900353...|[1.01011722265826...|       2.0|\n",
            "|  2.0|[2.0,5.9,3.0,5.1,...|[-35.244761426218...|[9.93469949761523...|       2.0|\n",
            "|  2.0|[2.0,6.0,2.2,5.0,...|[-39.128681932991...|[5.71262400367551...|       2.0|\n",
            "|  2.0|[2.0,6.3,2.5,5.0,...|[-42.214620194546...|[3.57967046204131...|       2.0|\n",
            "|  2.0|[2.0,6.4,2.7,5.3,...|[-42.213848351126...|[3.18799944836431...|       2.0|\n",
            "|  2.0|[2.0,6.4,2.8,5.6,...|[-46.483800967612...|[3.72725680035210...|       2.0|\n",
            "|  2.0|[2.0,6.5,3.0,5.2,...|[-40.385033295744...|[4.05263095635954...|       2.0|\n",
            "|  2.0|[2.0,6.5,3.0,5.5,...|[-39.504369608757...|[1.74008628202173...|       2.0|\n",
            "|  2.0|[2.0,6.7,2.5,5.8,...|[-46.614004460304...|[5.11170433520621...|       2.0|\n",
            "|  2.0|[2.0,6.7,3.3,5.7,...|[-42.048730079565...|[2.57322548466631...|       2.0|\n",
            "|  2.0|[2.0,6.7,3.3,5.7,...|[-46.940456738416...|[1.18169961738689...|       2.0|\n",
            "|  2.0|[2.0,6.8,3.2,5.9,...|[-46.864214411700...|[1.63700188864672...|       2.0|\n",
            "|  2.0|[2.0,6.9,3.1,5.1,...|[-44.016503272949...|[1.38179850511231...|       2.0|\n",
            "|  2.0|[2.0,7.1,3.0,5.9,...|[-47.432772785435...|[9.56112003583228...|       2.0|\n",
            "|  2.0|[2.0,7.2,3.0,5.8,...|[-41.158493802050...|[1.85858038803332...|       2.0|\n",
            "|  2.0|[2.0,7.6,3.0,6.6,...|[-52.895468056086...|[2.61184805160157...|       2.0|\n",
            "|  2.0|[2.0,7.7,3.0,6.1,...|[-53.094777869107...|[1.76078856859346...|       2.0|\n",
            "+-----+--------------------+--------------------+--------------------+----------+\n",
            "\n"
          ]
        }
      ]
    },
    {
      "cell_type": "code",
      "source": [
        "from sklearn.metrics import classification_report, confusion_matrix\n",
        "\n",
        "y_true = df_resultado.select(['label']).collect()\n",
        "y_pred = df_resultado.select(['prediction']).collect()\n",
        "\n",
        "from sklearn.metrics import classification_report, confusion_matrix\n",
        "\n",
        "# Imprime relatório com dados de precisão, recall, f1-score\n",
        "print(classification_report(y_true, y_pred))"
      ],
      "metadata": {
        "colab": {
          "base_uri": "https://localhost:8080/"
        },
        "id": "_wsyevMTtSui",
        "outputId": "4e8036f6-9fcb-42a4-8db8-e116f5def318"
      },
      "execution_count": 27,
      "outputs": [
        {
          "output_type": "stream",
          "name": "stdout",
          "text": [
            "              precision    recall  f1-score   support\n",
            "\n",
            "         0.0       1.00      1.00      1.00        15\n",
            "         1.0       1.00      1.00      1.00        15\n",
            "         2.0       1.00      1.00      1.00        18\n",
            "\n",
            "    accuracy                           1.00        48\n",
            "   macro avg       1.00      1.00      1.00        48\n",
            "weighted avg       1.00      1.00      1.00        48\n",
            "\n"
          ]
        }
      ]
    },
    {
      "cell_type": "markdown",
      "source": [
        "### Conclusão"
      ],
      "metadata": {
        "id": "cRxxnLvSBy92"
      }
    },
    {
      "cell_type": "markdown",
      "source": [
        "O modelo treinado teve uma acurácia e precisão de 100% para os valores preditos. \n",
        "\n",
        "Logicamente, a base iris.csv é uma base pequena com poucas instâncias e sem valores faltantes ou nulos o que torna o seu pré-processamento (limpeza e seleção dos dados, imputação de valores faltantes, etc) muito pequeno ou nulo.\n",
        "\n",
        "No entanto, sua facilidade propicia um bom entendimento do funcionamento de um algoritmo de machine learning. Esta foi a minha ideia quando escolhi este dataset, entender e compreender algumas tecnicas de machine learning e alguns conceitos que avaliam a performance de um modelo (acurácia, precisão, etc)."
      ],
      "metadata": {
        "id": "VygxNCoLCBZ-"
      }
    }
  ],
  "metadata": {
    "colab": {
      "collapsed_sections": [],
      "provenance": []
    },
    "kernelspec": {
      "display_name": "Python 3 (ipykernel)",
      "language": "python",
      "name": "python3"
    },
    "language_info": {
      "codemirror_mode": {
        "name": "ipython",
        "version": 3
      },
      "file_extension": ".py",
      "mimetype": "text/x-python",
      "name": "python",
      "nbconvert_exporter": "python",
      "pygments_lexer": "ipython3",
      "version": "3.9.7"
    }
  },
  "nbformat": 4,
  "nbformat_minor": 0
}